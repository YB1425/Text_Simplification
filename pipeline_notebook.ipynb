{
 "cells": [
  {
   "cell_type": "raw",
   "id": "930d9e223c968146",
   "metadata": {
    "collapsed": false
   },
   "source": []
  },
  {
   "cell_type": "markdown",
   "source": [
    "This notebook demonstrates how to use Hugging Face's text-to-text pipeline for text simplification using the `t5-base` model.\n"
   ],
   "metadata": {
    "collapsed": false
   },
   "id": "2e86a8df2f1adf4f"
  },
  {
   "cell_type": "code",
   "execution_count": 7,
   "outputs": [
    {
     "name": "stdout",
     "output_type": "stream",
     "text": [
      "Requirement already satisfied: transformers in c:\\users\\yasser\\iclouddrive\\documents\\misc\\programming projects\\tuwaiq ds and ml bootcamp\\text-to-text ai pipelines with gradio\\venv\\lib\\site-packages (4.44.2)\n",
      "Requirement already satisfied: filelock in c:\\users\\yasser\\iclouddrive\\documents\\misc\\programming projects\\tuwaiq ds and ml bootcamp\\text-to-text ai pipelines with gradio\\venv\\lib\\site-packages (from transformers) (3.16.0)\n",
      "Requirement already satisfied: huggingface-hub<1.0,>=0.23.2 in c:\\users\\yasser\\iclouddrive\\documents\\misc\\programming projects\\tuwaiq ds and ml bootcamp\\text-to-text ai pipelines with gradio\\venv\\lib\\site-packages (from transformers) (0.24.7)\n",
      "Requirement already satisfied: numpy>=1.17 in c:\\users\\yasser\\iclouddrive\\documents\\misc\\programming projects\\tuwaiq ds and ml bootcamp\\text-to-text ai pipelines with gradio\\venv\\lib\\site-packages (from transformers) (2.1.1)\n",
      "Requirement already satisfied: packaging>=20.0 in c:\\users\\yasser\\iclouddrive\\documents\\misc\\programming projects\\tuwaiq ds and ml bootcamp\\text-to-text ai pipelines with gradio\\venv\\lib\\site-packages (from transformers) (24.1)\n",
      "Requirement already satisfied: pyyaml>=5.1 in c:\\users\\yasser\\iclouddrive\\documents\\misc\\programming projects\\tuwaiq ds and ml bootcamp\\text-to-text ai pipelines with gradio\\venv\\lib\\site-packages (from transformers) (6.0.2)\n",
      "Requirement already satisfied: regex!=2019.12.17 in c:\\users\\yasser\\iclouddrive\\documents\\misc\\programming projects\\tuwaiq ds and ml bootcamp\\text-to-text ai pipelines with gradio\\venv\\lib\\site-packages (from transformers) (2024.9.11)\n",
      "Requirement already satisfied: requests in c:\\users\\yasser\\iclouddrive\\documents\\misc\\programming projects\\tuwaiq ds and ml bootcamp\\text-to-text ai pipelines with gradio\\venv\\lib\\site-packages (from transformers) (2.32.3)\n",
      "Requirement already satisfied: safetensors>=0.4.1 in c:\\users\\yasser\\iclouddrive\\documents\\misc\\programming projects\\tuwaiq ds and ml bootcamp\\text-to-text ai pipelines with gradio\\venv\\lib\\site-packages (from transformers) (0.4.5)\n",
      "Requirement already satisfied: tokenizers<0.20,>=0.19 in c:\\users\\yasser\\iclouddrive\\documents\\misc\\programming projects\\tuwaiq ds and ml bootcamp\\text-to-text ai pipelines with gradio\\venv\\lib\\site-packages (from transformers) (0.19.1)\n",
      "Requirement already satisfied: tqdm>=4.27 in c:\\users\\yasser\\iclouddrive\\documents\\misc\\programming projects\\tuwaiq ds and ml bootcamp\\text-to-text ai pipelines with gradio\\venv\\lib\\site-packages (from transformers) (4.66.5)\n",
      "Requirement already satisfied: fsspec>=2023.5.0 in c:\\users\\yasser\\iclouddrive\\documents\\misc\\programming projects\\tuwaiq ds and ml bootcamp\\text-to-text ai pipelines with gradio\\venv\\lib\\site-packages (from huggingface-hub<1.0,>=0.23.2->transformers) (2024.9.0)\n",
      "Requirement already satisfied: typing-extensions>=3.7.4.3 in c:\\users\\yasser\\iclouddrive\\documents\\misc\\programming projects\\tuwaiq ds and ml bootcamp\\text-to-text ai pipelines with gradio\\venv\\lib\\site-packages (from huggingface-hub<1.0,>=0.23.2->transformers) (4.12.2)\n",
      "Requirement already satisfied: colorama in c:\\users\\yasser\\iclouddrive\\documents\\misc\\programming projects\\tuwaiq ds and ml bootcamp\\text-to-text ai pipelines with gradio\\venv\\lib\\site-packages (from tqdm>=4.27->transformers) (0.4.6)\n",
      "Requirement already satisfied: charset-normalizer<4,>=2 in c:\\users\\yasser\\iclouddrive\\documents\\misc\\programming projects\\tuwaiq ds and ml bootcamp\\text-to-text ai pipelines with gradio\\venv\\lib\\site-packages (from requests->transformers) (3.3.2)\n",
      "Requirement already satisfied: idna<4,>=2.5 in c:\\users\\yasser\\iclouddrive\\documents\\misc\\programming projects\\tuwaiq ds and ml bootcamp\\text-to-text ai pipelines with gradio\\venv\\lib\\site-packages (from requests->transformers) (3.8)\n",
      "Requirement already satisfied: urllib3<3,>=1.21.1 in c:\\users\\yasser\\iclouddrive\\documents\\misc\\programming projects\\tuwaiq ds and ml bootcamp\\text-to-text ai pipelines with gradio\\venv\\lib\\site-packages (from requests->transformers) (2.2.3)\n",
      "Requirement already satisfied: certifi>=2017.4.17 in c:\\users\\yasser\\iclouddrive\\documents\\misc\\programming projects\\tuwaiq ds and ml bootcamp\\text-to-text ai pipelines with gradio\\venv\\lib\\site-packages (from requests->transformers) (2024.8.30)\n"
     ]
    },
    {
     "name": "stderr",
     "output_type": "stream",
     "text": [
      "\n",
      "[notice] A new release of pip is available: 23.2.1 -> 24.2\n",
      "[notice] To update, run: python.exe -m pip install --upgrade pip\n"
     ]
    }
   ],
   "source": [
    "# Install required libraries\n",
    "!pip install transformers\n",
    "\n",
    "from transformers import pipeline"
   ],
   "metadata": {
    "collapsed": false,
    "ExecuteTime": {
     "end_time": "2024-09-14T00:16:24.383482900Z",
     "start_time": "2024-09-14T00:16:21.728721900Z"
    }
   },
   "id": "9a9d450e11d09f33"
  },
  {
   "cell_type": "code",
   "execution_count": 8,
   "outputs": [],
   "source": [
    "\n",
    "# Load pipeline\n",
    "simplifier = pipeline(\"text2text-generation\", model=\"t5-base\")"
   ],
   "metadata": {
    "collapsed": false,
    "ExecuteTime": {
     "end_time": "2024-09-14T00:16:24.936997100Z",
     "start_time": "2024-09-14T00:16:24.382484400Z"
    }
   },
   "id": "6e913aff8ef1c100"
  },
  {
   "cell_type": "code",
   "execution_count": 9,
   "outputs": [],
   "source": [
    "\n",
    "# Define function\n",
    "def text_simplifying(text, max_len):\n",
    "    simplified = simplifier(f\"simplified: {text}\", max_length=max_len, min_length=30, do_sample=False)\n",
    "    return simplified[0]['generated_text']"
   ],
   "metadata": {
    "collapsed": false,
    "ExecuteTime": {
     "end_time": "2024-09-14T00:16:24.942365500Z",
     "start_time": "2024-09-14T00:16:24.936997100Z"
    }
   },
   "id": "9272916ba55fa52d"
  },
  {
   "cell_type": "code",
   "execution_count": 10,
   "outputs": [],
   "source": [
    "\n",
    "# Example\n",
    "text = (\n",
    "    \"The legislative body has formulated regulations for the implementation of new policies. \"\n",
    "    \"These regulations aim to address various issues that have arisen in recent years, including \"\n",
    "    \"the need for better environmental protection and the promotion of sustainable practices. \"\n",
    "    \"The policies will require organizations to adhere to stricter guidelines and implement changes \"\n",
    "    \"in their operations to reduce their environmental footprint. Additionally, there will be a focus \"\n",
    "    \"on enhancing public awareness and engagement regarding environmental issues. The new regulations \"\n",
    "    \"are expected to have a significant impact on both the private and public sectors, requiring \"\n",
    "    \"cooperation from all stakeholders to ensure successful implementation.\"\n",
    ")\n",
    "max_length = 100"
   ],
   "metadata": {
    "collapsed": false,
    "ExecuteTime": {
     "end_time": "2024-09-14T00:16:24.956175200Z",
     "start_time": "2024-09-14T00:16:24.940362900Z"
    }
   },
   "id": "f1b611acd685d53a"
  },
  {
   "cell_type": "code",
   "execution_count": 11,
   "outputs": [
    {
     "name": "stdout",
     "output_type": "stream",
     "text": [
      "Original Text:\n",
      "The legislative body has formulated regulations for the implementation of new policies. These regulations aim to address various issues that have arisen in recent years, including the need for better environmental protection and the promotion of sustainable practices. The policies will require organizations to adhere to stricter guidelines and implement changes in their operations to reduce their environmental footprint. Additionally, there will be a focus on enhancing public awareness and engagement regarding environmental issues. The new regulations are expected to have a significant impact on both the private and public sectors, requiring cooperation from all stakeholders to ensure successful implementation.\n",
      "\n",
      "Simplified Text:\n",
      "the regulations have been simplified: The legislative body has formulated regulations for the implementation of new policies. The regulations aim to address various issues that have arisen in recent years, including the need for better environmental protection and the promotion of sustainable practices.\n"
     ]
    }
   ],
   "source": [
    "\n",
    "# Simplify the text\n",
    "simplified_text = text_simplifying(text, max_length)\n",
    "\n",
    "print(\"Original Text:\")\n",
    "print(text)\n",
    "print(\"\\nSimplified Text:\")\n",
    "print(simplified_text)\n"
   ],
   "metadata": {
    "collapsed": false,
    "ExecuteTime": {
     "end_time": "2024-09-14T00:16:26.566489400Z",
     "start_time": "2024-09-14T00:16:24.956674400Z"
    }
   },
   "id": "43576b624f318d6e"
  },
  {
   "cell_type": "code",
   "execution_count": 11,
   "outputs": [],
   "source": [],
   "metadata": {
    "collapsed": false,
    "ExecuteTime": {
     "end_time": "2024-09-14T00:16:26.566489400Z",
     "start_time": "2024-09-14T00:16:26.562334900Z"
    }
   },
   "id": "d516fbdb2ae79cd0"
  }
 ],
 "metadata": {
  "kernelspec": {
   "display_name": "Python 3 (ipykernel)",
   "language": "python",
   "name": "python3"
  },
  "language_info": {
   "codemirror_mode": {
    "name": "ipython",
    "version": 3
   },
   "file_extension": ".py",
   "mimetype": "text/x-python",
   "name": "python",
   "nbconvert_exporter": "python",
   "pygments_lexer": "ipython3",
   "version": "3.12.0"
  }
 },
 "nbformat": 4,
 "nbformat_minor": 5
}
