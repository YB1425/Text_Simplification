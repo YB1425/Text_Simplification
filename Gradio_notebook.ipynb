{
 "cells": [
  {
   "cell_type": "markdown",
   "source": [
    "This notebook showcases various Gradio components such as Textbox, Slider, and Dropdown with hardcoded data."
   ],
   "metadata": {
    "collapsed": false
   },
   "id": "1f4104dabf3309df"
  },
  {
   "cell_type": "code",
   "execution_count": 1,
   "outputs": [],
   "source": [
    "import gradio as gr"
   ],
   "metadata": {
    "collapsed": false,
    "ExecuteTime": {
     "end_time": "2024-09-14T00:17:18.082464Z",
     "start_time": "2024-09-14T00:17:14.026719600Z"
    }
   },
   "id": "58be98dc8fa9471c"
  },
  {
   "cell_type": "code",
   "execution_count": 2,
   "outputs": [],
   "source": [
    "\n",
    "def textbox_demo(text):\n",
    "    return f\"You entered: {text}\""
   ],
   "metadata": {
    "collapsed": false,
    "ExecuteTime": {
     "end_time": "2024-09-14T00:17:18.086259800Z",
     "start_time": "2024-09-14T00:17:18.083464900Z"
    }
   },
   "id": "9cd8844574c45b0e"
  },
  {
   "cell_type": "code",
   "execution_count": 3,
   "outputs": [],
   "source": [
    "\n",
    "def slider_demo(length):\n",
    "    return f\"Selected length: {length}\""
   ],
   "metadata": {
    "collapsed": false,
    "ExecuteTime": {
     "end_time": "2024-09-14T00:17:18.099964900Z",
     "start_time": "2024-09-14T00:17:18.086259800Z"
    }
   },
   "id": "8ab3458001e63aac"
  },
  {
   "cell_type": "code",
   "execution_count": 4,
   "outputs": [],
   "source": [
    "\n",
    "def dropdown_demo(option):\n",
    "    return f\"You selected: {option}\""
   ],
   "metadata": {
    "collapsed": false,
    "ExecuteTime": {
     "end_time": "2024-09-14T00:17:18.125565700Z",
     "start_time": "2024-09-14T00:17:18.100464100Z"
    }
   },
   "id": "1679299ee2e054df"
  },
  {
   "cell_type": "code",
   "execution_count": 5,
   "outputs": [],
   "source": [
    "\n",
    "def checkbox_demo(is_checked):\n",
    "    return \"Checkbox is checked!\" if is_checked else \"Checkbox is not checked!\""
   ],
   "metadata": {
    "collapsed": false,
    "ExecuteTime": {
     "end_time": "2024-09-14T00:17:18.131243600Z",
     "start_time": "2024-09-14T00:17:18.116057100Z"
    }
   },
   "id": "6a4e24cebba43643"
  },
  {
   "cell_type": "code",
   "execution_count": 6,
   "outputs": [],
   "source": [
    "# Main function that integrates all Gradio components and returns their results\n",
    "def gradio_demo(text, length, option, is_checked):\n",
    "    textbox_result = textbox_demo(text)\n",
    "    slider_result = slider_demo(length)\n",
    "    dropdown_result = dropdown_demo(option)\n",
    "    checkbox_result = checkbox_demo(is_checked)\n",
    "    \n",
    "    return textbox_result, slider_result, dropdown_result, checkbox_result"
   ],
   "metadata": {
    "collapsed": false,
    "ExecuteTime": {
     "end_time": "2024-09-14T00:17:18.146010800Z",
     "start_time": "2024-09-14T00:17:18.131243600Z"
    }
   },
   "id": "a9dbc83353c24185"
  },
  {
   "cell_type": "code",
   "execution_count": 7,
   "outputs": [
    {
     "name": "stdout",
     "output_type": "stream",
     "text": [
      "Running on local URL:  http://127.0.0.1:7860\n",
      "\n",
      "To create a public link, set `share=True` in `launch()`.\n"
     ]
    },
    {
     "data": {
      "text/plain": "<IPython.core.display.HTML object>",
      "text/html": "<div><iframe src=\"http://127.0.0.1:7860/\" width=\"100%\" height=\"500\" allow=\"autoplay; camera; microphone; clipboard-read; clipboard-write;\" frameborder=\"0\" allowfullscreen></iframe></div>"
     },
     "metadata": {},
     "output_type": "display_data"
    },
    {
     "data": {
      "text/plain": ""
     },
     "execution_count": 7,
     "metadata": {},
     "output_type": "execute_result"
    }
   ],
   "source": [
    "# Launching the Gradio interface\n",
    "interface = gr.Interface(\n",
    "    fn=gradio_demo,\n",
    "    inputs=[\n",
    "        gr.Textbox(lines=2, placeholder=\"Enter some text...\"),\n",
    "        gr.Slider(minimum=10, maximum=100, value=50, label=\"Select a length\"),\n",
    "        gr.Dropdown(choices=[\"Option 1\", \"Option 2\", \"Option 3\"], label=\"Select an option\"),\n",
    "        gr.Checkbox(label=\"Check me\")\n",
    "    ],\n",
    "    outputs=[\n",
    "        gr.Textbox(label=\"Textbox Result\"),\n",
    "        gr.Textbox(label=\"Slider Result\"),\n",
    "        gr.Textbox(label=\"Dropdown Result\"),\n",
    "        gr.Textbox(label=\"Checkbox Result\")\n",
    "    ],\n",
    "    title=\"Gradio Components Demo\",\n",
    "    description=\"Demonstrates the use of various Gradio components with hardcoded data.\"\n",
    ")\n",
    "\n",
    "interface.launch()\n"
   ],
   "metadata": {
    "collapsed": false,
    "ExecuteTime": {
     "end_time": "2024-09-14T00:17:19.025342100Z",
     "start_time": "2024-09-14T00:17:18.147512200Z"
    }
   },
   "id": "b0846348c0e05180"
  }
 ],
 "metadata": {
  "kernelspec": {
   "display_name": "Python 3",
   "language": "python",
   "name": "python3"
  },
  "language_info": {
   "codemirror_mode": {
    "name": "ipython",
    "version": 2
   },
   "file_extension": ".py",
   "mimetype": "text/x-python",
   "name": "python",
   "nbconvert_exporter": "python",
   "pygments_lexer": "ipython2",
   "version": "2.7.6"
  }
 },
 "nbformat": 4,
 "nbformat_minor": 5
}
