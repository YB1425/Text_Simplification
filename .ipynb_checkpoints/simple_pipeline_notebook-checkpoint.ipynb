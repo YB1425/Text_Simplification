{
 "cells": [
  {
   "cell_type": "raw",
   "id": "930d9e223c968146",
   "metadata": {
    "collapsed": false,
    "jupyter": {
     "outputs_hidden": false
    }
   },
   "source": []
  },
  {
   "cell_type": "code",
   "execution_count": null,
   "id": "225b9c4a29f99757",
   "metadata": {
    "collapsed": false,
    "jupyter": {
     "outputs_hidden": false
    }
   },
   "outputs": [],
   "source": [
    "# Simple Pipeline Notebook\n",
    "\n",
    "This notebook demonstrates how to use Hugging Face's text-to-text pipeline for text simplification using the `t5-base` model.\n",
    "\n",
    "```python\n",
    "# Install the required libraries\n",
    "!pip install transformers\n",
    "\n",
    "from transformers import pipeline\n",
    "\n",
    "# Load the text simplification pipeline\n",
    "simplifier = pipeline(\"text2text-generation\", model=\"t5-base\")\n",
    "\n",
    "# Define the text simplification function\n",
    "def text_simplifying(text, max_len):\n",
    "    simplified = simplifier(f\"simplify: {text}\", max_length=max_len, min_length=30, do_sample=False)\n",
    "    return simplified[0]['generated_text']\n",
    "\n",
    "# Example usage\n",
    "text = \"The legislative body has formulated regulations for the implementation of new policies.\"\n",
    "max_length = 50\n",
    "simplified_text = text_simplifying(text, max_length)\n",
    "print(\"Original Text:\")\n",
    "print(text)\n",
    "print(\"\\nSimplified Text:\")\n",
    "print(simplified_text)\n"
   ]
  }
 ],
 "metadata": {
  "kernelspec": {
   "display_name": "Python 3 (ipykernel)",
   "language": "python",
   "name": "python3"
  },
  "language_info": {
   "codemirror_mode": {
    "name": "ipython",
    "version": 3
   },
   "file_extension": ".py",
   "mimetype": "text/x-python",
   "name": "python",
   "nbconvert_exporter": "python",
   "pygments_lexer": "ipython3",
   "version": "3.12.0"
  }
 },
 "nbformat": 4,
 "nbformat_minor": 5
}
